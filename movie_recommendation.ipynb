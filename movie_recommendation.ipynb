{
 "cells": [
  {
   "cell_type": "code",
   "execution_count": 1,
   "metadata": {
    "collapsed": true
   },
   "outputs": [],
   "source": [
    "import pandas as pd\n",
    "import numpy as np\n",
    "import matplotlib.pyplot as plt"
   ]
  },
  {
   "cell_type": "code",
   "execution_count": 2,
   "metadata": {
    "collapsed": false
   },
   "outputs": [],
   "source": [
    "data = pd.read_csv(\"movie_metadata.csv\")"
   ]
  },
  {
   "cell_type": "code",
   "execution_count": 3,
   "metadata": {
    "collapsed": false
   },
   "outputs": [],
   "source": [
    "data_use = data.ix[:,['genres','plot_keywords','movie_title','actor_1_name',\n",
    "                      'actor_2_name','actor_3_name','director_name','imdb_score']]\n",
    "#data_use['movie_title'] = [i.replace(\"\\xa0\",\"\") for i in list(data_use['movie_title'])]"
   ]
  },
  {
   "cell_type": "code",
   "execution_count": 4,
   "metadata": {
    "collapsed": false
   },
   "outputs": [],
   "source": [
    "#data_use['movie_title']"
   ]
  },
  {
   "cell_type": "code",
   "execution_count": 5,
   "metadata": {
    "collapsed": false
   },
   "outputs": [],
   "source": [
    "data_use['movie_title'] = [i.replace(\"\\xc2\\xa0\",\"\") for i in list(data_use['movie_title'])]\n",
    "#print data_use['movie_title']"
   ]
  },
  {
   "cell_type": "code",
   "execution_count": 6,
   "metadata": {
    "collapsed": false
   },
   "outputs": [
    {
     "data": {
      "text/plain": [
       "(5043, 8)"
      ]
     },
     "execution_count": 6,
     "metadata": {},
     "output_type": "execute_result"
    }
   ],
   "source": [
    "data_use.shape"
   ]
  },
  {
   "cell_type": "code",
   "execution_count": 7,
   "metadata": {
    "collapsed": false
   },
   "outputs": [],
   "source": [
    "clean_data = data_use.dropna(axis=0)"
   ]
  },
  {
   "cell_type": "code",
   "execution_count": 8,
   "metadata": {
    "collapsed": false
   },
   "outputs": [
    {
     "name": "stdout",
     "output_type": "stream",
     "text": [
      "(5043, 8)\n",
      "(4781, 8)\n"
     ]
    }
   ],
   "source": [
    "print data_use.shape\n",
    "print clean_data.shape"
   ]
  },
  {
   "cell_type": "code",
   "execution_count": 9,
   "metadata": {
    "collapsed": false
   },
   "outputs": [],
   "source": [
    "#clean_data"
   ]
  },
  {
   "cell_type": "code",
   "execution_count": 10,
   "metadata": {
    "collapsed": true
   },
   "outputs": [],
   "source": [
    "clean_data = clean_data.drop_duplicates(['movie_title'])\n"
   ]
  },
  {
   "cell_type": "code",
   "execution_count": 11,
   "metadata": {
    "collapsed": false
   },
   "outputs": [
    {
     "name": "stdout",
     "output_type": "stream",
     "text": [
      "(4659, 8)\n"
     ]
    }
   ],
   "source": [
    "clean_data = clean_data.reset_index(drop=True)\n",
    "print (clean_data.shape)"
   ]
  },
  {
   "cell_type": "code",
   "execution_count": 12,
   "metadata": {
    "collapsed": true
   },
   "outputs": [],
   "source": [
    "people_list = []\n",
    "for i in range(clean_data.shape[0]):\n",
    "    name1 = clean_data.ix[i,'actor_1_name'].replace(\" \",\"_\")\n",
    "    name2 = clean_data.ix[i,'actor_2_name'].replace(\" \",\"_\")\n",
    "    name3 = clean_data.ix[i,'actor_3_name'].replace(\" \",\"_\")\n",
    "    name4 = clean_data.ix[i,'director_name'].replace(\" \",\"_\")\n",
    "    people_list.append(\"|\".join([name1,name2,name3,name4]))\n",
    "clean_data['people'] = people_list"
   ]
  },
  {
   "cell_type": "code",
   "execution_count": 13,
   "metadata": {
    "collapsed": false
   },
   "outputs": [],
   "source": [
    "#clean_data['people']"
   ]
  },
  {
   "cell_type": "code",
   "execution_count": 14,
   "metadata": {
    "collapsed": false
   },
   "outputs": [],
   "source": [
    "from sklearn.feature_extraction.text import CountVectorizer\n",
    "\n",
    "def token(text):\n",
    "    return(text.split('|'))\n",
    "\n",
    "cv_kw = CountVectorizer(max_features=100,tokenizer=token)\n",
    "keywords = cv_kw.fit_transform(clean_data[\"plot_keywords\"])\n",
    "keywords_list = [\"kw_\" + i for i in cv_kw.get_feature_names()]\n",
    "#print keywords\n",
    "#print keywords_list\n",
    "#clean_data.head()\n",
    "\n",
    "cv_pp = CountVectorizer(max_features=100,tokenizer=token)\n",
    "people = cv_pp.fit_transform(clean_data[\"people\"])\n",
    "people_list = [\"pp_\" + i for i in cv_pp.get_feature_names()]\n",
    "\n",
    "cv_ge = CountVectorizer(tokenizer=token)\n",
    "genres = cv_ge.fit_transform(clean_data[\"genres\"])\n",
    "genres_list = [\"genres_\" + i for i in cv_ge.get_feature_names()]\n",
    "\n",
    "cluster_data = np.hstack([keywords.todense(),genres.todense(),people.todense()*2])\n",
    "criterion_list = keywords_list+genres_list+people_list\n",
    "#print criterion_list"
   ]
  },
  {
   "cell_type": "code",
   "execution_count": 15,
   "metadata": {
    "collapsed": false
   },
   "outputs": [],
   "source": [
    "#print criterion_list"
   ]
  },
  {
   "cell_type": "code",
   "execution_count": 16,
   "metadata": {
    "collapsed": false
   },
   "outputs": [],
   "source": [
    "from sklearn.cluster import KMeans\n",
    "\n",
    "mod = KMeans(n_clusters=100)\n",
    "category = mod.fit_predict(cluster_data)\n",
    "category_dataframe = pd.DataFrame({\"category\":category},index=clean_data['movie_title'])\n",
    "#print category"
   ]
  },
  {
   "cell_type": "code",
   "execution_count": 17,
   "metadata": {
    "collapsed": false
   },
   "outputs": [],
   "source": [
    "#clean_data.ix[list(category_dataframe['category']==0),['genres','movie_title','people']]"
   ]
  },
  {
   "cell_type": "code",
   "execution_count": 18,
   "metadata": {
    "collapsed": false
   },
   "outputs": [
    {
     "data": {
      "text/plain": [
       "(4659L, 224L)"
      ]
     },
     "execution_count": 18,
     "metadata": {},
     "output_type": "execute_result"
    }
   ],
   "source": [
    "cluster_data.shape"
   ]
  },
  {
   "cell_type": "code",
   "execution_count": 19,
   "metadata": {
    "collapsed": true
   },
   "outputs": [],
   "source": [
    "from sklearn.model_selection import train_test_split"
   ]
  },
  {
   "cell_type": "code",
   "execution_count": 20,
   "metadata": {
    "collapsed": true
   },
   "outputs": [],
   "source": [
    "#X_train, X_test, y_train, y_test = train_test_split( X, y, test_size=0.33, random_state=42)\n",
    "def recommend(movie_name,recommend_number = 5):\n",
    "    if movie_name in list(clean_data['movie_title']):\n",
    "        movie_cluster = category_dataframe.ix[movie_name,'category']\n",
    "        score = clean_data.ix[list(category_dataframe['category'] == movie_cluster),['imdb_score','movie_title']]\n",
    "        sort_score = score.sort_values(['imdb_score'],ascending=[0])\n",
    "        sort_score = sort_score[sort_score['movie_title'] != movie_name]\n",
    "        recommend_number = min(sort_score.shape[0],recommend_number)\n",
    "        recommend_movie = list(sort_score.iloc[range(recommend_number),1])\n",
    "        print(recommend_movie)\n",
    "    else:\n",
    "        print(\"Can't find this movie!\")"
   ]
  },
  {
   "cell_type": "code",
   "execution_count": 21,
   "metadata": {
    "collapsed": false
   },
   "outputs": [
    {
     "name": "stdout",
     "output_type": "stream",
     "text": [
      "['Into the Wild', 'Dark City', 'A History of Violence', 'A.I. Artificial Intelligence', 'Race', \"Marilyn Hotchkiss' Ballroom Dancing and Charm School\", 'One True Thing', 'The Incredible Hulk', 'Tuck Everlasting', 'Vantage Point']\n"
     ]
    }
   ],
   "source": [
    "recommend('Robin Hood',10)"
   ]
  },
  {
   "cell_type": "code",
   "execution_count": 22,
   "metadata": {
    "collapsed": false
   },
   "outputs": [],
   "source": [
    "#any(clean_data.genres=='Comedy')"
   ]
  },
  {
   "cell_type": "code",
   "execution_count": 23,
   "metadata": {
    "collapsed": false
   },
   "outputs": [],
   "source": [
    "#a = clean_data.ix[4466]['movie_title']\n",
    "#print a+\"1\""
   ]
  },
  {
   "cell_type": "code",
   "execution_count": null,
   "metadata": {
    "collapsed": true
   },
   "outputs": [],
   "source": []
  }
 ],
 "metadata": {
  "kernelspec": {
   "display_name": "Python 2",
   "language": "python",
   "name": "python2"
  },
  "language_info": {
   "codemirror_mode": {
    "name": "ipython",
    "version": 2
   },
   "file_extension": ".py",
   "mimetype": "text/x-python",
   "name": "python",
   "nbconvert_exporter": "python",
   "pygments_lexer": "ipython2",
   "version": "2.7.12"
  }
 },
 "nbformat": 4,
 "nbformat_minor": 0
}
